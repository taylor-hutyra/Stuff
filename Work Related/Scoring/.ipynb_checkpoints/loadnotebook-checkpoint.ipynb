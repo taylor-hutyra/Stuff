{
 "cells": [
  {
   "cell_type": "code",
   "execution_count": 5,
   "metadata": {},
   "outputs": [
    {
     "name": "stdout",
     "output_type": "stream",
     "text": [
      "7 7 49\n"
     ]
    }
   ],
   "source": [
    "import numpy as np\n",
    "import pandas as pd\n",
    "from setup import *\n",
    "\n",
    "df = pd.read_csv(\"guidebook_score_export.csv\", names = ['Judge_ID','Poster_ID','Presenter', 'Question_ID', 'Question', 'Response','Date'])\n",
    "\n",
    "df=df[1:]\n",
    "poster_list = np.unique(df[\"Poster_ID\"])\n",
    "poster_num = len(poster_list)\n",
    "ROWS = int(np.sqrt(poster_num))+1\n",
    "COLUMNS = int((poster_num-1)/ROWS)+1\n",
    "\n",
    "print(ROWS,COLUMNS,ROWS*COLUMNS)"
   ]
  }
 ],
 "metadata": {
  "kernelspec": {
   "display_name": "Python 3",
   "language": "python",
   "name": "python3"
  },
  "language_info": {
   "codemirror_mode": {
    "name": "ipython",
    "version": 3
   },
   "file_extension": ".py",
   "mimetype": "text/x-python",
   "name": "python",
   "nbconvert_exporter": "python",
   "pygments_lexer": "ipython3",
   "version": "3.6.1"
  }
 },
 "nbformat": 4,
 "nbformat_minor": 2
}
