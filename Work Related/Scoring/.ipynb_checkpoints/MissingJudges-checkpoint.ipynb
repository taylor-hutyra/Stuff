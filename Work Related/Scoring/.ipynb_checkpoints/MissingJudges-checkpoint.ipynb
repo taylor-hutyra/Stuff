{
 "cells": [
  {
   "cell_type": "code",
   "execution_count": 70,
   "metadata": {
    "collapsed": true
   },
   "outputs": [],
   "source": [
    "from random import random\n",
    "import pandas as pd\n",
    "import numpy as np\n",
    "import glob\n",
    "import os\n",
    "from setup import *\n",
    "\n",
    "\n",
    "def get_update():\n",
    "    list_of_files = glob.glob('./inc_guidebook/*') # * means all if need specific format then *.csv\n",
    "    latest_file = max(list_of_files, key=os.path.getctime)\n",
    "    df = pd.read_csv(latest_file, names = ['Judge ID','Poster ID','Presenter', 'Question Text', 'Question', 'Response','Date'])\n",
    "#     display(df)\n",
    "    return df"
   ]
  },
  {
   "cell_type": "code",
   "execution_count": null,
   "metadata": {},
   "outputs": [],
   "source": [
    "jf = pd.read_csv('judge_list.csv')\n",
    "jf = jf[['RESPONSE ID', 'FIRST NAME', 'LAST NAME', 'NAME','INSTITUTION']]\n",
    "df = get_update()\n",
    "display(df)\n",
    "# all_names = jf[['FIRST NAME', 'LAST NAME','NAME']]\n",
    "all_names = jf['FIRST NAME'].str.lower().to_frame()\n",
    "all_names['LAST NAME'] = jf['LAST NAME'].str.lower()\n",
    "all_names['NAME'] = jf['NAME'].str.lower()\n",
    "display(all_names)\n",
    "submitted_names = (df.loc[df['Question']=='Feedback/Comments']['Response']).str.strip().str.lower().str.rsplit(' ', expand=True, n=1).reset_index(drop=True)\n",
    "submitted_names['JUDGE ID'] = df.loc[df['Question']=='Feedback/Comments']['Judge ID'].reset_index(drop=True)#\n",
    "submitted_names.columns = ['FIRST NAME', 'LAST NAME','JUDGE ID']\n",
    "# display(all_names)\n",
    "display(submitted_names)\n",
    "\n",
    "merged = pd.merge(submitted_names, all_names, how = 'outer', indicator = True)\n",
    "# display(merged)\n",
    "\n",
    "both_names = merged[merged['_merge']=='both'][['NAME','JUDGE ID']]\n",
    "not_in_all = merged[merged['_merge']=='left_only'][['FIRST NAME', 'LAST NAME','JUDGE ID']]\n",
    "not_submitted = merged[merged['_merge']=='right_only'][['NAME','JUDGE ID']]\n",
    "\n",
    "print('THESE NAMES HAVE BEEN SUBMITTED -AND- CROSS REFERENCED')\n",
    "display(both_names.reset_index(drop=True))\n",
    "print('THESE NAMES HAVE --NOT-- BEEN SUBMITTED')\n",
    "display(not_submitted.reset_index(drop=True))\n",
    "not_submitted.to_html(r'C:\\Users\\sw_hutyra\\Google Drive\\Pathways 2017\\Judging and Awards Team\\NOT_SUBMITTED.html')\n",
    "print('THESE NAMES HAVE BEEN SUBMITTED BUT COULD NOT BE FOUND')\n",
    "display(not_in_all.reset_index(drop=True))\n",
    "\n",
    "# df = pd.read_csv('judges.csv')\n",
    "# num = len(np.unique(df['Device ID']))\n",
    "# judge_list = list(np.unique(df['Device ID']))\n",
    "# print(num)\n",
    "# ndf = pd.concat([df.loc[df['Device ID']== x].loc[df['Question Text']=='Feedback/Comments']['Response'] for x in judge_list])\n",
    "# ndf = ndf.str.strip().str.rsplit(' ', expand=True, n=1)\n",
    "# pd.merge(ndf,jf[['RESPONSE ID', 'LAST NAME']], left_on=1, right_on = 'LAST NAME')"
   ]
  }
 ],
 "metadata": {
  "kernelspec": {
   "display_name": "Python 3",
   "language": "python",
   "name": "python3"
  },
  "language_info": {
   "codemirror_mode": {
    "name": "ipython",
    "version": 3
   },
   "file_extension": ".py",
   "mimetype": "text/x-python",
   "name": "python",
   "nbconvert_exporter": "python",
   "pygments_lexer": "ipython3",
   "version": "3.6.1"
  }
 },
 "nbformat": 4,
 "nbformat_minor": 2
}
