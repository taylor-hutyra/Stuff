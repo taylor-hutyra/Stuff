{
 "cells": [
  {
   "cell_type": "code",
   "execution_count": 2,
   "metadata": {},
   "outputs": [
    {
     "ename": "ModuleNotFoundError",
     "evalue": "No module named 'pycxsimulator'",
     "output_type": "error",
     "traceback": [
      "\u001b[1;31m---------------------------------------------------------------------------\u001b[0m",
      "\u001b[1;31mModuleNotFoundError\u001b[0m                       Traceback (most recent call last)",
      "\u001b[1;32m<ipython-input-2-546372b4ae04>\u001b[0m in \u001b[0;36m<module>\u001b[1;34m()\u001b[0m\n\u001b[0;32m      1\u001b[0m \u001b[1;32mfrom\u001b[0m \u001b[0msetup\u001b[0m \u001b[1;32mimport\u001b[0m \u001b[1;33m*\u001b[0m\u001b[1;33m\u001b[0m\u001b[0m\n\u001b[1;32m----> 2\u001b[1;33m \u001b[1;32mimport\u001b[0m \u001b[0mpycxsimulator\u001b[0m\u001b[1;33m\u001b[0m\u001b[0m\n\u001b[0m\u001b[0;32m      3\u001b[0m \u001b[1;33m\u001b[0m\u001b[0m\n\u001b[0;32m      4\u001b[0m \u001b[0mmf\u001b[0m \u001b[1;33m=\u001b[0m \u001b[0mpd\u001b[0m\u001b[1;33m.\u001b[0m\u001b[0mread_csv\u001b[0m\u001b[1;33m(\u001b[0m\u001b[1;34m'master_projects.csv'\u001b[0m\u001b[1;33m)\u001b[0m\u001b[1;33m[\u001b[0m\u001b[1;33m[\u001b[0m\u001b[1;34m'RESPONSE ID'\u001b[0m\u001b[1;33m,\u001b[0m\u001b[1;34m'NAME'\u001b[0m\u001b[1;33m,\u001b[0m\u001b[1;34m'FIRST NAME'\u001b[0m\u001b[1;33m,\u001b[0m\u001b[1;34m'LAST NAME'\u001b[0m\u001b[1;33m]\u001b[0m\u001b[1;33m]\u001b[0m\u001b[1;33m\u001b[0m\u001b[0m\n\u001b[0;32m      5\u001b[0m \u001b[0mgf\u001b[0m \u001b[1;33m=\u001b[0m \u001b[0mpd\u001b[0m\u001b[1;33m.\u001b[0m\u001b[0mread_csv\u001b[0m\u001b[1;33m(\u001b[0m\u001b[1;34m'gb_projects.csv'\u001b[0m\u001b[1;33m)\u001b[0m\u001b[1;33m\u001b[0m\u001b[0m\n",
      "\u001b[1;31mModuleNotFoundError\u001b[0m: No module named 'pycxsimulator'"
     ]
    }
   ],
   "source": [
    "from setup import *\n",
    "import pycxsimulator\n",
    "\n",
    "mf = pd.read_csv('master_projects.csv')[['RESPONSE ID','NAME','FIRST NAME','LAST NAME']]\n",
    "gf = pd.read_csv('gb_projects.csv')\n",
    "gf = gf.iloc[:,[0,1]]\n",
    "gf.columns = [['ID','NAME']]\n",
    "\n",
    "merge_df = pd.merge(mf,gf, how = 'outer',indicator=True)\n",
    "just_master = merge_df[merge_df['_merge']=='left_only']\n",
    "just_guidebook = merge_df[merge_df['_merge']=='right_only']\n",
    "both = merge_df[merge_df['_merge']=='both']\n",
    "\n",
    "print(str(len(just_master))+' Projects ONLY in GoogleDoc Master')\n",
    "# display(just_master.sort_values('NAME'))\n",
    "print(str(len(just_guidebook))+' People ONLY in Guidebook')\n",
    "# display(just_guidebook.sort_values('NAME'))\n",
    "print(str(len(both))+' People with both a GoogleDoc Master project and Guidebook profile')\n",
    "# display(both.sort_values('NAME'))\n",
    "\n",
    "long_df = pd.concat([both,just_master])\n",
    "display(long_df)\n",
    "just_master.to_csv('to_master.csv')\n",
    "just_guidebook.to_csv('just_guidebook.csv')\n",
    "long_df.to_csv('merged_projects.csv')\n",
    "long_df.to_html('frame.html')\n"
   ]
  }
 ],
 "metadata": {
  "kernelspec": {
   "display_name": "Python 3",
   "language": "python",
   "name": "python3"
  },
  "language_info": {
   "codemirror_mode": {
    "name": "ipython",
    "version": 3
   },
   "file_extension": ".py",
   "mimetype": "text/x-python",
   "name": "python",
   "nbconvert_exporter": "python",
   "pygments_lexer": "ipython3",
   "version": "3.6.1"
  }
 },
 "nbformat": 4,
 "nbformat_minor": 2
}
